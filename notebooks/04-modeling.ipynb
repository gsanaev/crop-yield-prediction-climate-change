{
  "cells": [
    {
      "cell_type": "markdown",
      "id": "836f00b0",
      "metadata": {},
      "source": [
        "# 04 — Modeling\n",
        "\n",
        "**Purpose:** Train Random Forest and Ridge with time‑aware CV and last‑5‑years hold‑out. Save predictions/metrics and permutation importance for **both** models.\n",
        "\n",
        "**Inputs:** `./data/processed/countries_features.csv`\n",
        "\n",
        "**Outputs (CSV only):**\n",
        "- `./reports/metrics/cv_summary.csv` (RF)\n",
        "- `./reports/metrics/holdout_metrics.csv` (RF)\n",
        "- `./reports/predictions/cv_predictions.csv` (RF)\n",
        "- `./reports/predictions/holdout_predictions.csv` (RF)\n",
        "- `./reports/predictions/residuals_all_data.csv` (RF; optional)\n",
        "- `./reports/metrics/holdout_permutation_importance.csv` (RF; optional)\n",
        "- `./reports/metrics/cv_summary_ridge.csv` (Ridge; optional)\n",
        "- `./reports/metrics/holdout_metrics_ridge.csv` (Ridge; optional)\n",
        "- `./reports/predictions/holdout_predictions_ridge.csv` (Ridge; optional)\n",
        "\n",
        "**Key decisions/assumptions:** Countries only; no target imputation; median imputer in‑pipeline; time‑aware CV; last‑5y hold‑out."
      ]
    },
    {
      "cell_type": "markdown",
      "id": "71fb29f5",
      "metadata": {},
      "source": [
        "## 1) Setup"
      ]
    },
    {
      "cell_type": "code",
      "execution_count": null,
      "id": "e0c09249",
      "metadata": {},
      "outputs": [],
      "source": [
        "from pathlib import Path\n",
        "import numpy as np, pandas as pd\n",
        "from sklearn.model_selection import TimeSeriesSplit\n",
        "from sklearn.pipeline import Pipeline\n",
        "from sklearn.impute import SimpleImputer\n",
        "from sklearn.ensemble import RandomForestRegressor\n",
        "from sklearn.linear_model import Ridge\n",
        "from sklearn.metrics import r2_score, mean_absolute_error, mean_squared_error\n",
        "\n",
        "pd.set_option(\"display.max_columns\", None)\n",
        "\n",
        "INP = Path(\"../data/processed/countries_features.csv\")\n",
        "REPORTS = Path(\"./reports\"); REPORTS.mkdir(exist_ok=True)\n",
        "REPORTS_METRICS = REPORTS / \"metrics\"; REPORTS_METRICS.mkdir(parents=True, exist_ok=True)\n",
        "REPORTS_PRED = REPORTS / \"predictions\"; REPORTS_PRED.mkdir(parents=True, exist_ok=True)\n",
        "\n",
        "print(\"Features:\", INP.resolve())"
      ]
    },
    {
      "cell_type": "markdown",
      "id": "d8b47f92",
      "metadata": {},
      "source": [
        "## 2) Load features & assemble sets"
      ]
    },
    {
      "cell_type": "code",
      "execution_count": null,
      "id": "caa4fdf8",
      "metadata": {},
      "outputs": [],
      "source": [
        "df = pd.read_csv(INP)\n",
        "TARGET = \"cereal_yield\"\n",
        "\n",
        "id_cols = [\"Country Name\", \"Country Code\"]\n",
        "non_feature = set([TARGET, \"year\", *id_cols])\n",
        "numeric_like = [c for c in df.columns if pd.api.types.is_numeric_dtype(df[c])]\n",
        "exclude = set(non_feature)\n",
        "exclude |= {c for c in numeric_like if c.startswith(\"lag0_\") or c.endswith(\"_future\")}\n",
        "FEATS = [c for c in numeric_like if c not in exclude]\n",
        "\n",
        "mask = df[TARGET].notna()\n",
        "dfm = df.loc[mask].copy()\n",
        "if \"year\" in dfm.columns:\n",
        "    dfm[\"year\"] = pd.to_numeric(dfm[\"year\"], errors=\"coerce\").astype(\"Int64\")\n",
        "\n",
        "X = dfm[FEATS]\n",
        "y = dfm[TARGET]\n",
        "years = dfm[\"year\"] if \"year\" in dfm.columns else pd.Series([np.nan]*len(dfm), index=dfm.index)\n",
        "codes = dfm[\"Country Code\"] if \"Country Code\" in dfm.columns else None\n",
        "\n",
        "dfm = dfm.sort_values(\"year\")  # ensure chronological order globally\n",
        "\n",
        "n_splits = 5\n",
        "tscv = TimeSeriesSplit(n_splits=n_splits)\n",
        "\n",
        "print(\"n_features:\", len(FEATS), \"| labeled rows:\", X.shape[0])"
      ]
    },
    {
      "cell_type": "markdown",
      "id": "acef0916",
      "metadata": {},
      "source": [
        "## 3) Random Forest — CV & Hold‑out"
      ]
    },
    {
      "cell_type": "code",
      "execution_count": null,
      "id": "49c4c486",
      "metadata": {},
      "outputs": [],
      "source": [
        "rf_pipe = Pipeline([(\"imputer\", SimpleImputer(strategy=\"median\")),\n",
        "                    (\"rf\", RandomForestRegressor(n_estimators=300, random_state=42, n_jobs=-1))])\n",
        "\n",
        "# CV\n",
        "cv_rows = []; cv_pred_rows = []\n",
        "for fold, (tr, va) in enumerate(tscv.split(X), start=1):\n",
        "    X_tr, y_tr = X.iloc[tr], y.iloc[tr]\n",
        "    X_va, y_va = X.iloc[va], y.iloc[va]\n",
        "    y_va_np = y_va.to_numpy(dtype=float)\n",
        "\n",
        "    rf_pipe.fit(X_tr, y_tr)\n",
        "    p = rf_pipe.predict(X_va)\n",
        "\n",
        "    r2 = r2_score(y_va_np, p)\n",
        "    mae = mean_absolute_error(y_va_np, p)\n",
        "    try:\n",
        "        rmse = mean_squared_error(y_va_np, p, squared=False)\n",
        "    except TypeError:\n",
        "        rmse = (mean_squared_error(y_va_np, p))**0.5\n",
        "    cv_rows.append({\"fold\": fold, \"R2\": r2, \"MAE\": mae, \"RMSE\": rmse})\n",
        "\n",
        "    yrs_va = years.iloc[va].values\n",
        "    codes_va = codes.iloc[va].values if codes is not None else np.array([None]*len(va))\n",
        "    for i in range(len(p)):\n",
        "        cv_pred_rows.append({\n",
        "            \"fold\": fold,\n",
        "            \"year\": int(yrs_va[i]) if yrs_va[i] == yrs_va[i] else None,\n",
        "            \"Country Code\": None if codes is None else codes_va[i],\n",
        "            \"y_true\": float(y_va_np[i]),\n",
        "            \"y_pred\": float(p[i])\n",
        "        })\n",
        "\n",
        "pd.DataFrame(cv_rows).to_csv(REPORTS_METRICS / \"cv_summary.csv\", index=False)\n",
        "pd.DataFrame(cv_pred_rows).to_csv(REPORTS_PRED / \"cv_predictions.csv\", index=False)\n",
        "\n",
        "# Hold-out\n",
        "last_year = int(years.max())\n",
        "ho_mask = years >= (last_year - 4); tr_mask = ~ho_mask\n",
        "X_tr, y_tr = X.loc[tr_mask], y.loc[tr_mask]\n",
        "X_ho, y_ho = X.loc[ho_mask], y.loc[ho_mask]\n",
        "\n",
        "rf_pipe.fit(X_tr, y_tr)\n",
        "p_ho = rf_pipe.predict(X_ho)\n",
        "\n",
        "try:\n",
        "    rmse = mean_squared_error(y_ho, p_ho, squared=False)\n",
        "except TypeError:\n",
        "    rmse = (mean_squared_error(y_ho, p_ho))**0.5\n",
        "\n",
        "pd.DataFrame([{\n",
        "    \"R2\": r2_score(y_ho, p_ho), \"MAE\": mean_absolute_error(y_ho, p_ho), \"RMSE\": rmse,\n",
        "    \"years\": f\"{int(years[ho_mask].min())}-{int(years[ho_mask].max())}\"\n",
        "}]).to_csv(REPORTS_METRICS / \"holdout_metrics.csv\", index=False)\n",
        "\n",
        "df_ho = X_ho.copy()\n",
        "for c in [\"Country Name\",\"Country Code\",\"year\"]:\n",
        "    if c in dfm.columns:\n",
        "        df_ho[c] = dfm.loc[df_ho.index, c].values\n",
        "df_ho[\"y_true\"] = y_ho.values\n",
        "df_ho[\"y_pred\"] = p_ho\n",
        "df_ho[[c for c in [\"Country Name\",\"Country Code\",\"year\",\"y_true\",\"y_pred\"] if c in df_ho.columns]].to_csv(REPORTS_PRED / \"holdout_predictions.csv\", index=False)\n",
        "print(\"Saved RF metrics & predictions.\")"
      ]
    },
    {
      "cell_type": "markdown",
      "id": "ca47e1c1",
      "metadata": {},
      "source": [
        "## 4) Ridge — CV & Hold‑out"
      ]
    },
    {
      "cell_type": "code",
      "execution_count": null,
      "id": "e01a67b7",
      "metadata": {},
      "outputs": [],
      "source": [
        "from sklearn.preprocessing import StandardScaler\n",
        "\n",
        "ridge_pipe = Pipeline([\n",
        "    (\"imputer\", SimpleImputer(strategy=\"median\")),\n",
        "    (\"scaler\", StandardScaler(with_mean=True, with_std=True)),\n",
        "    (\"ridge\", Ridge(alpha=1.0, solver=\"auto\"))\n",
        "])\n",
        "\n",
        "# CV\n",
        "ridge_cv_rows = []\n",
        "for fold, (tr, va) in enumerate(tscv.split(X), start=1):\n",
        "    X_tr, y_tr = X.iloc[tr], y.iloc[tr]\n",
        "    X_va, y_va = X.iloc[va], y.iloc[va]\n",
        "    ridge_pipe.fit(X_tr, y_tr)\n",
        "    p = ridge_pipe.predict(X_va)\n",
        "    try:\n",
        "        rmse = mean_squared_error(y_va, p, squared=False)\n",
        "    except TypeError:\n",
        "        rmse = (mean_squared_error(y_va, p))**0.5\n",
        "    ridge_cv_rows.append({\"fold\": fold, \"R2\": r2_score(y_va, p), \"MAE\": mean_absolute_error(y_va, p), \"RMSE\": rmse})\n",
        "\n",
        "ridge_cv = pd.DataFrame(ridge_cv_rows)\n",
        "ridge_cv.loc[\"mean\"] = {\"fold\": \"mean\", **ridge_cv[[\"R2\",\"MAE\",\"RMSE\"]].mean().to_dict()}\n",
        "ridge_cv.to_csv(REPORTS_METRICS / \"cv_summary_ridge.csv\", index=False)\n",
        "\n",
        "# Hold-out\n",
        "ridge_pipe.fit(X_tr, y_tr)\n",
        "p_ho_r = ridge_pipe.predict(X_ho)\n",
        "try:\n",
        "    rmse_r = mean_squared_error(y_ho, p_ho_r, squared=False)\n",
        "except TypeError:\n",
        "    rmse_r = (mean_squared_error(y_ho, p_ho_r))**0.5\n",
        "\n",
        "pd.DataFrame([{\n",
        "    \"R2\": r2_score(y_ho, p_ho_r), \"MAE\": mean_absolute_error(y_ho, p_ho_r), \"RMSE\": rmse_r,\n",
        "    \"years\": f\"{int(years[ho_mask].min())}-{int(years[ho_mask].max())}\"\n",
        "}]).to_csv(REPORTS_METRICS / \"holdout_metrics_ridge.csv\", index=False)\n",
        "\n",
        "df_ho_r = X_ho.copy()\n",
        "for c in [\"Country Name\",\"Country Code\",\"year\"]:\n",
        "    if c in dfm.columns:\n",
        "        df_ho_r[c] = dfm.loc[df_ho_r.index, c].values\n",
        "df_ho_r[\"y_true\"] = y_ho.values\n",
        "df_ho_r[\"y_pred\"] = p_ho_r\n",
        "df_ho_r[[c for c in [\"Country Name\",\"Country Code\",\"year\",\"y_true\",\"y_pred\"] if c in df_ho_r.columns]]     .to_csv(REPORTS_PRED / \"holdout_predictions_ridge.csv\", index=False)\n",
        "print(\"Saved Ridge metrics & predictions.\")"
      ]
    },
    {
      "cell_type": "markdown",
      "id": "8e98f926",
      "metadata": {},
      "source": [
        "## 5) Permutation importance on hold‑out (both models)"
      ]
    },
    {
      "cell_type": "code",
      "execution_count": null,
      "id": "732d91cd",
      "metadata": {},
      "outputs": [],
      "source": [
        "from sklearn.inspection import permutation_importance\n",
        "\n",
        "# RF\n",
        "try:\n",
        "    result_rf = permutation_importance(rf_pipe, X_ho, y_ho, n_repeats=5, random_state=42, n_jobs=1)\n",
        "    imp_rf = pd.DataFrame({\"feature\": X.columns, \"perm_importance\": result_rf.importances_mean})              .sort_values(\"perm_importance\", ascending=False)\n",
        "    imp_rf.to_csv(REPORTS_METRICS / \"holdout_permutation_importance.csv\", index=False)\n",
        "    print(\"Saved RF permutation importance.\")\n",
        "except Exception as e:\n",
        "    print(\"RF permutation importance skipped:\", e)\n",
        "\n",
        "# Ridge\n",
        "try:\n",
        "    result_rg = permutation_importance(ridge_pipe, X_ho, y_ho, n_repeats=5, random_state=42, n_jobs=1)\n",
        "    imp_rg = pd.DataFrame({\"feature\": X.columns, \"perm_importance\": result_rg.importances_mean})              .sort_values(\"perm_importance\", ascending=False)\n",
        "    imp_rg.to_csv(REPORTS_METRICS / \"holdout_permutation_importance_ridge.csv\", index=False)\n",
        "    print(\"Saved Ridge permutation importance.\")\n",
        "except Exception as e:\n",
        "    print(\"Ridge permutation importance skipped:\", e)"
      ]
    },
    {
      "cell_type": "markdown",
      "id": "757c54bc",
      "metadata": {},
      "source": [
        "## 6) Environment"
      ]
    },
    {
      "cell_type": "code",
      "execution_count": null,
      "id": "e7a7b3c9",
      "metadata": {},
      "outputs": [],
      "source": [
        "import sys, platform, numpy, pandas, sklearn\n",
        "print(\"Python:\", sys.version.split()[0])\n",
        "print(\"Platform:\", platform.platform())\n",
        "print(\"NumPy:\", numpy.__version__)\n",
        "print(\"Pandas:\", pandas.__version__)\n",
        "print(\"scikit-learn:\", sklearn.__version__)"
      ]
    }
  ],
  "metadata": {
    "kernelspec": {
      "display_name": "crop (3.12.11)",
      "language": "python",
      "name": "python3"
    },
    "language_info": {
      "codemirror_mode": {
        "name": "ipython",
        "version": 3
      },
      "file_extension": ".py",
      "mimetype": "text/x-python",
      "name": "python",
      "nbconvert_exporter": "python",
      "pygments_lexer": "ipython3",
      "version": "3.12.11"
    }
  },
  "nbformat": 4,
  "nbformat_minor": 5
}
