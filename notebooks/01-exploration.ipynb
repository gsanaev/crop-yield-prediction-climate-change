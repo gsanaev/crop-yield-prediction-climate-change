{
 "cells": [
  {
   "cell_type": "markdown",
   "id": "585bbd6a",
   "metadata": {},
   "source": [
    "# 01 — Exploration & Data Audit (WDI + NASA)\n",
    "\n",
    "**Purpose:**  \n",
    "Load the combined WDI/NASA panel, audit schema & missingness, identify and split **countries vs aggregates**, and produce simple completeness diagnostics. No filtering or imputation is performed here; we only prepare clean inputs for downstream notebooks.\n",
    "\n",
    "**Inputs:**  \n",
    "- `../data/processed/wdi_nasa.csv` *(primary source; optional runtime fallback to `/mnt/data/wdi_nasa.csv` if present)*\n",
    "\n",
    "**Outputs (CSV only):**  \n",
    "- `../data/processed/countries_only.csv`  \n",
    "- `../data/processed/aggregates_only.csv`\n",
    "\n",
    "**Key decisions/assumptions:**\n",
    "- **Countries vs aggregates:** Use a keyword-based flag (`AGG_KEYWORDS`) with an explicit `EXCEPTIONS` list to avoid false positives (e.g., *United States*, *South Africa*, *Central African Republic*, *North Macedonia*, *West Bank and Gaza*, etc.). See the code cell for the exact lists.\n",
    "- **Modeling source of truth:** Downstream notebooks (02–07) will read **`countries_only.csv`**; aggregates are excluded from modeling.\n",
    "- **No imputation or filtering here:** We do not impute features or targets; we only compute diagnostics (missingness, completeness by year) and preview distributions.\n",
    "- **Time safety noted:** Any “suggested start year” derived from completeness is informational only in this notebook; actual filtering happens later (if applied).\n"
   ]
  },
  {
   "cell_type": "code",
   "execution_count": null,
   "id": "93d4c841",
   "metadata": {},
   "outputs": [],
   "source": [
    "# --- Setup ---\n",
    "from pathlib import Path\n",
    "import numpy as np\n",
    "import pandas as pd\n",
    "import matplotlib.pyplot as plt\n",
    "\n",
    "pd.set_option(\"display.max_columns\", None)\n",
    "plt.rcParams.update({\"figure.figsize\": (10, 4), \"figure.dpi\": 120})\n",
    "\n",
    "# Primary dataset path\n",
    "DATA_PATH = Path(\"../data/processed/wdi_nasa.csv\")\n",
    "fallback = Path(\"/mnt/data/wdi_nasa.csv\")\n",
    "\n",
    "if not DATA_PATH.exists() and fallback.exists():\n",
    "    DATA_PATH = fallback\n",
    "    print(f\"Using fallback path: {DATA_PATH}\")\n",
    "else:\n",
    "    print(f\"Using data path: {DATA_PATH}\")\n",
    "\n",
    "df = pd.read_csv(DATA_PATH)\n",
    "print(\"Loaded shape:\", df.shape)\n",
    "df.head()"
   ]
  },
  {
   "cell_type": "markdown",
   "id": "7b23027e",
   "metadata": {},
   "source": [
    "## Separate Countries and Aggregates"
   ]
  },
  {
   "cell_type": "code",
   "execution_count": null,
   "id": "3d40f2b5",
   "metadata": {},
   "outputs": [],
   "source": [
    "# --- Identify aggregate vs. country entries ---\n",
    "\n",
    "AGG_KEYWORDS = [\n",
    "    \"income\", \"countries\", \"world\", \"union\", \"region\", \"states\",\n",
    "    \"area\", \"members\", \"bank\", \"monetary\", \"zone\",\n",
    "    \"africa\", \"asia\", \"america\", \"europe\", \"latin\", \"sub-saharan\",\n",
    "    \"middle east\", \"north\", \"south\", \"central\",\n",
    "    \"develop\", \"fragile\", \"caribbean\", \"pacific\",\n",
    "    \"early-demographic dividend\", \"late-demographic dividend\",\n",
    "    \"post-demographic dividend\", \"pre-demographic dividend\",\n",
    "    \"ibrd only\", \"ida & ibrd total\", \"ida blend\",\n",
    "    \"ida only\", \"ida total\"\n",
    "]\n",
    "\n",
    "EXCEPTIONS = {\n",
    "    \"american samoa\",\n",
    "    \"central african republic\",\n",
    "    \"south africa\",\n",
    "    \"north macedonia\",\n",
    "    \"south sudan\",\n",
    "    \"united states\",\n",
    "    \"korea, rep.\",\n",
    "    \"korea, dem. people's rep.\",\n",
    "    \"dominican republic\",\n",
    "    \"czechia\",\n",
    "    \"west bank and gaza\",\n",
    "    \"british virgin islands\",\n",
    "    \"cayman islands\",\n",
    "    \"channel islands\"\n",
    "}\n",
    "\n",
    "def is_aggregate(name: str) -> bool:\n",
    "    if not isinstance(name, str):\n",
    "        return False\n",
    "    low = name.lower().strip()\n",
    "    if low in EXCEPTIONS:\n",
    "        return False\n",
    "    return any(k in low for k in AGG_KEYWORDS)\n",
    "\n",
    "if \"Country Name\" in df.columns:\n",
    "    df[\"is_aggregate\"] = df[\"Country Name\"].apply(is_aggregate)\n",
    "\n",
    "# --- Summarize results ---\n",
    "agg_counts = df[\"is_aggregate\"].value_counts(dropna=False)\n",
    "print(\"Aggregate flag counts:\\n\", agg_counts)\n",
    "\n",
    "countries = (\n",
    "    df.loc[~df[\"is_aggregate\"], \"Country Name\"]\n",
    "      .drop_duplicates().sort_values().to_list()\n",
    ")\n",
    "aggregates = (\n",
    "    df.loc[df[\"is_aggregate\"], \"Country Name\"]\n",
    "      .drop_duplicates().sort_values().to_list()\n",
    ")\n",
    "\n",
    "print(f\"\\nNumber of countries: {len(countries)}\")\n",
    "print(f\"Number of aggregates: {len(aggregates)}\")\n",
    "print(\"\\nSample aggregates:\", aggregates[:15])\n"
   ]
  },
  {
   "cell_type": "markdown",
   "id": "ca502804",
   "metadata": {},
   "source": [
    "### Save Separate Datasets"
   ]
  },
  {
   "cell_type": "code",
   "execution_count": null,
   "id": "c8d86062",
   "metadata": {},
   "outputs": [],
   "source": [
    "countries_df = df.loc[~df[\"is_aggregate\"]].copy()\n",
    "aggregates_df = df.loc[df[\"is_aggregate\"]].copy()\n",
    "\n",
    "countries_df.to_csv(\"../data/processed/countries_only.csv\", index=False)\n",
    "aggregates_df.to_csv(\"../data/processed/aggregates_only.csv\", index=False)\n",
    "\n",
    "print(\"Saved:\")\n",
    "print(\"  • countries_only.csv\")\n",
    "print(\"  • aggregates_only.csv\")"
   ]
  },
  {
   "cell_type": "markdown",
   "id": "769ed5bf",
   "metadata": {},
   "source": [
    "## Load Cleaned Datasets for Analysis"
   ]
  },
  {
   "cell_type": "code",
   "execution_count": null,
   "id": "c8094a85",
   "metadata": {},
   "outputs": [],
   "source": [
    "# Use clean datasets for EDA\n",
    "countries_df = pd.read_csv(\"../data/processed/countries_only.csv\")\n",
    "aggregates_df = pd.read_csv(\"../data/processed/aggregates_only.csv\")\n",
    "\n",
    "print(\"Countries-only shape:\", countries_df.shape)\n",
    "print(\"Aggregates shape:\", aggregates_df.shape)\n",
    "\n",
    "df = countries_df.copy()  # Work primarily with country-level data\n"
   ]
  },
  {
   "cell_type": "markdown",
   "id": "035f9d1b",
   "metadata": {},
   "source": [
    "## Data Availability and Completeness"
   ]
  },
  {
   "cell_type": "code",
   "execution_count": null,
   "id": "c3541f1d",
   "metadata": {},
   "outputs": [],
   "source": [
    "# Records by year\n",
    "counts_by_year = df[\"year\"].value_counts().sort_index()\n",
    "ax = counts_by_year.plot(kind=\"bar\")\n",
    "ax.set_title(\"Data availability by year (row counts)\")\n",
    "ax.set_ylabel(\"Rows\")\n",
    "plt.tight_layout()\n",
    "plt.show()\n",
    "\n",
    "# Average completeness per year\n",
    "non_feature_cols = [c for c in [\"Country Name\", \"Country Code\"] if c in df.columns]\n",
    "\n",
    "def completeness(group: pd.DataFrame) -> float:\n",
    "    work_cols = [c for c in group.columns if c not in non_feature_cols]\n",
    "    return group[work_cols].notna().mean().mean()\n",
    "\n",
    "comp_by_year = df.groupby(\"year\").apply(completeness).sort_index()\n",
    "ax = comp_by_year.plot()\n",
    "ax.set_ylim(0, 1)\n",
    "ax.set_title(\"Average completeness per year\")\n",
    "ax.set_ylabel(\"Proportion non-missing\")\n",
    "plt.tight_layout()\n",
    "plt.show()\n",
    "\n",
    "# Suggested modeling window start\n",
    "threshold = 0.80\n",
    "eligible_years = comp_by_year[comp_by_year >= threshold]\n",
    "if not eligible_years.empty:\n",
    "    year_cutoff = int(eligible_years.index.min())\n",
    "    print(f\"Suggested modeling window start (completeness ≥ {threshold:.0%}): {year_cutoff}\")\n",
    "else:\n",
    "    year_cutoff = None\n",
    "    print(\"No year meets the completeness threshold; consider lowering the threshold.\")"
   ]
  },
  {
   "cell_type": "markdown",
   "id": "2e4a43b2",
   "metadata": {},
   "source": [
    "## Descriptive Statistics and Correlations"
   ]
  },
  {
   "cell_type": "code",
   "execution_count": null,
   "id": "26b901f3",
   "metadata": {},
   "outputs": [],
   "source": [
    "df.describe(include=\"all\").T\n",
    "\n",
    "num_cols = df.select_dtypes(include=[np.number]).columns.tolist()\n",
    "if num_cols:\n",
    "    df[num_cols].hist(bins=30, figsize=(12, 8))\n",
    "    plt.suptitle(\"Distributions of numeric variables\", y=1.02)\n",
    "    plt.tight_layout()\n",
    "    plt.show()\n",
    "\n",
    "corr = df.select_dtypes(include=[np.number]).corr(method=\"pearson\")\n",
    "if not corr.empty:\n",
    "    fig, ax = plt.subplots(figsize=(10, 8))\n",
    "    cax = ax.imshow(corr.values, interpolation=\"nearest\", aspect=\"auto\")\n",
    "    ax.set_title(\"Correlation matrix (Pearson)\")\n",
    "    ax.set_xticks(range(len(corr.columns)))\n",
    "    ax.set_xticklabels(corr.columns, rotation=90)\n",
    "    ax.set_yticks(range(len(corr.index)))\n",
    "    ax.set_yticklabels(corr.index)\n",
    "    fig.colorbar(cax, ax=ax, fraction=0.046, pad=0.04)\n",
    "    plt.tight_layout()\n",
    "    plt.show()"
   ]
  },
  {
   "cell_type": "markdown",
   "id": "4fc76ff6",
   "metadata": {},
   "source": [
    "## Pairwise Scatter Plots"
   ]
  },
  {
   "cell_type": "code",
   "execution_count": null,
   "id": "797c6c36",
   "metadata": {},
   "outputs": [],
   "source": [
    "def safe_scatter(x, y, data, title):\n",
    "    if x in data.columns and y in data.columns:\n",
    "        plt.figure(figsize=(6,4))\n",
    "        plt.scatter(data[x], data[y], alpha=0.4)\n",
    "        plt.xlabel(x)\n",
    "        plt.ylabel(y)\n",
    "        plt.title(title)\n",
    "        plt.tight_layout()\n",
    "        plt.show()\n",
    "\n",
    "safe_scatter(\"temp_anomaly\", \"cereal_yield\", df, \"Temp anomaly vs cereal yield\")\n",
    "safe_scatter(\"precipitation\", \"cereal_yield\", df, \"Precipitation vs cereal yield\")\n",
    "safe_scatter(\"fertilizer_use\", \"cereal_yield\", df, \"Fertilizer use vs cereal yield\")"
   ]
  },
  {
   "cell_type": "markdown",
   "id": "763f4fec",
   "metadata": {},
   "source": [
    "## Yearly Means (Global Trends)"
   ]
  },
  {
   "cell_type": "code",
   "execution_count": null,
   "id": "ae0f5016",
   "metadata": {},
   "outputs": [],
   "source": [
    "def plot_yearly_mean(col, title):\n",
    "    if \"year\" not in df.columns or col not in df.columns:\n",
    "        return\n",
    "    series = df.groupby(\"year\")[col].mean()\n",
    "    ax = series.plot()\n",
    "    ax.set_title(title)\n",
    "    ax.set_xlabel(\"Year\")\n",
    "    ax.set_ylabel(col)\n",
    "    plt.tight_layout()\n",
    "    plt.show()\n",
    "\n",
    "plot_yearly_mean(\"cereal_yield\", \"Global mean cereal yield over time\")\n",
    "plot_yearly_mean(\"temp_anomaly\", \"Global mean temperature anomaly over time\")\n",
    "plot_yearly_mean(\"precipitation\", \"Global mean precipitation over time\")"
   ]
  },
  {
   "cell_type": "markdown",
   "id": "a6478386",
   "metadata": {},
   "source": [
    "## Selected Aggregates: Trend Comparison"
   ]
  },
  {
   "cell_type": "code",
   "execution_count": null,
   "id": "4aa6c6f7",
   "metadata": {},
   "outputs": [],
   "source": [
    "aggregates = aggregates_df[aggregates_df[\"Country Name\"].str.contains(\"OECD|World|European Union\", case=False, na=False)]\n",
    "pivot = aggregates.pivot_table(index=\"year\", columns=\"Country Name\", values=\"cereal_yield\", aggfunc=\"mean\")\n",
    "ax = pivot.plot(figsize=(10,6))\n",
    "ax.set_title(\"Cereal yield trends — selected aggregates\")\n",
    "ax.set_xlabel(\"Year\")\n",
    "ax.set_ylabel(\"cereal_yield\")\n",
    "plt.tight_layout()\n",
    "plt.show()"
   ]
  },
  {
   "cell_type": "markdown",
   "id": "615be85d",
   "metadata": {},
   "source": [
    "## Top-10 Countries by Average Cereal Yield (Recent Decade)"
   ]
  },
  {
   "cell_type": "code",
   "execution_count": null,
   "id": "012180d1",
   "metadata": {},
   "outputs": [],
   "source": [
    "last_year = int(df[\"year\"].max())\n",
    "window_start = last_year - 9\n",
    "recent = df[(df[\"year\"] >= window_start)]\n",
    "\n",
    "top10 = (recent.groupby(\"Country Name\")[\"cereal_yield\"]\n",
    "               .mean()\n",
    "               .sort_values(ascending=False)\n",
    "               .head(10))\n",
    "print(top10)\n",
    "\n",
    "# Time series for top-10\n",
    "top10_names = top10.index.tolist()\n",
    "subset = df[df[\"Country Name\"].isin(top10_names)]\n",
    "pivot = subset.pivot_table(index=\"year\", columns=\"Country Name\", values=\"cereal_yield\", aggfunc=\"mean\")\n",
    "ax = pivot.plot(figsize=(10,6))\n",
    "ax.set_title(\"Top-10 countries by cereal_yield — time series\")\n",
    "ax.set_xlabel(\"Year\")\n",
    "ax.set_ylabel(\"cereal_yield\")\n",
    "plt.tight_layout()\n",
    "plt.show()"
   ]
  },
  {
   "cell_type": "markdown",
   "id": "a492fd3a",
   "metadata": {},
   "source": [
    "## High-Yield Anomaly Check"
   ]
  },
  {
   "cell_type": "code",
   "execution_count": null,
   "id": "5408c710",
   "metadata": {},
   "outputs": [],
   "source": [
    "ANOMALY_YIELD = 12000\n",
    "\n",
    "high_yield = df[df[\"cereal_yield\"] > ANOMALY_YIELD][\n",
    "    [\"Country Name\",\"Country Code\",\"year\",\"cereal_yield\",\"precipitation\",\"gdp_per_capita\",\"fertilizer_use\",\"population\"]\n",
    "].sort_values([\"Country Name\",\"year\"])\n",
    "\n",
    "print(f\"Rows with cereal_yield > {ANOMALY_YIELD} kg/ha: {len(high_yield)}\")\n",
    "high_yield.head(20)\n"
   ]
  },
  {
   "cell_type": "markdown",
   "id": "9eea98f4",
   "metadata": {},
   "source": [
    "## Modeling Dataset Preview"
   ]
  },
  {
   "cell_type": "code",
   "execution_count": null,
   "id": "a3a9be31",
   "metadata": {},
   "outputs": [],
   "source": [
    "df_model = None\n",
    "if \"year\" in df.columns and isinstance(globals().get(\"comp_by_year\", None), pd.Series):\n",
    "    threshold = 0.80\n",
    "    eligible_years = comp_by_year[comp_by_year >= threshold]\n",
    "    if not eligible_years.empty:\n",
    "        year_cutoff = int(eligible_years.index.min())\n",
    "        df_model = df[df[\"year\"] >= year_cutoff].copy()\n",
    "        df_model[\"cereal_yield\"] = df_model[\"cereal_yield\"].clip(upper=12000)\n",
    "        print(f\"df_model created from {year_cutoff} onward. Shape: {df_model.shape}\")\n",
    "    else:\n",
    "        print(\"No years meet the completeness threshold.\")\n",
    "else:\n",
    "    print(\"Run completeness cell first to compute comp_by_year.\")"
   ]
  },
  {
   "cell_type": "markdown",
   "id": "414ae306",
   "metadata": {},
   "source": [
    "## Environment Information"
   ]
  },
  {
   "cell_type": "code",
   "execution_count": null,
   "id": "3320ce4b",
   "metadata": {},
   "outputs": [],
   "source": [
    "import sys, platform, numpy, pandas, matplotlib\n",
    "print(\"Python:\", sys.version.split()[0])\n",
    "print(\"Platform:\", platform.platform())\n",
    "print(\"NumPy:\", numpy.__version__)\n",
    "print(\"Pandas:\", pandas.__version__)\n",
    "print(\"Matplotlib:\", matplotlib.__version__)"
   ]
  },
  {
   "cell_type": "markdown",
   "id": "e4909388",
   "metadata": {},
   "source": [
    "---\n",
    "### ✅ Notebook Summary\n",
    "- Country vs. aggregate separation verified (221 countries, 44 aggregates)\n",
    "- Data completeness >80% from suggested cutoff year onward\n",
    "- Visual checks show plausible distributions and correlations\n",
    "- Top-10 yield countries identified; anomaly yields flagged for QA\n",
    "\n",
    "Next: proceed to **`02-preprocessing.ipynb`** for feature engineering and modeling setup."
   ]
  }
 ],
 "metadata": {
  "kernelspec": {
   "display_name": "crop (3.12.11)",
   "language": "python",
   "name": "python3"
  },
  "language_info": {
   "codemirror_mode": {
    "name": "ipython",
    "version": 3
   },
   "file_extension": ".py",
   "mimetype": "text/x-python",
   "name": "python",
   "nbconvert_exporter": "python",
   "pygments_lexer": "ipython3",
   "version": "3.12.11"
  }
 },
 "nbformat": 4,
 "nbformat_minor": 5
}
