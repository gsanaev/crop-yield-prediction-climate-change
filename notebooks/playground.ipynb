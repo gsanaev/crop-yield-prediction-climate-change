{
 "cells": [
  {
   "cell_type": "code",
   "execution_count": 4,
   "id": "1c6dae3c",
   "metadata": {},
   "outputs": [
    {
     "name": "stdout",
     "output_type": "stream",
     "text": [
      "     Country Name Country Code  year  fertilizer_use  precipitation  \\\n",
      "5720      Germany          DEU  1960             NaN            NaN   \n",
      "5721      Germany          DEU  1961      268.068740          700.0   \n",
      "5722      Germany          DEU  1962      291.786951          700.0   \n",
      "5723      Germany          DEU  1963      304.436416          700.0   \n",
      "5724      Germany          DEU  1964      324.976153          700.0   \n",
      "5725      Germany          DEU  1965      345.248251          700.0   \n",
      "5726      Germany          DEU  1966      337.901522          700.0   \n",
      "5727      Germany          DEU  1967      349.525189          700.0   \n",
      "5728      Germany          DEU  1968      354.466423          700.0   \n",
      "5729      Germany          DEU  1969      380.088576          700.0   \n",
      "5730      Germany          DEU  1970      398.560659          700.0   \n",
      "5731      Germany          DEU  1971      409.584705          700.0   \n",
      "5732      Germany          DEU  1972      404.595385          700.0   \n",
      "5733      Germany          DEU  1973      411.670225          700.0   \n",
      "5734      Germany          DEU  1974      423.347671          700.0   \n",
      "\n",
      "      cereal_yield  co2_total_mt  co2_per_capita  gdp_per_capita  population  \n",
      "5720           NaN           NaN             NaN     1162.122668  72814900.0  \n",
      "5721        2417.4           NaN             NaN     1315.907878  73377632.0  \n",
      "5722        2962.2           NaN             NaN     1430.520955  74025784.0  \n",
      "5723        2925.2           NaN             NaN     1502.154529  74714353.0  \n",
      "5724        3120.8           NaN             NaN     1637.455228  75318337.0  \n",
      "5725        2852.2           NaN             NaN     1774.198690  75963695.0  \n",
      "5726        2878.0           NaN             NaN     1870.805403  76600311.0  \n",
      "5727        3483.3           NaN             NaN     1885.615966  76951336.0  \n",
      "5728        3619.6           NaN             NaN     2025.081595  77294314.0  \n",
      "5729        3447.5           NaN             NaN     2281.275982  77909682.0  \n",
      "5730        3179.6     1084.6575       13.875750     2771.283105  78169289.0  \n",
      "5731        3788.6     1077.4192       13.757887     3203.828848  78312842.0  \n",
      "5732        3770.2     1105.2903       14.046411     3823.940326  78688452.0  \n",
      "5733        3873.4     1157.7203       14.666445     5065.245233  78936666.0  \n",
      "5734        4178.8     1122.5066       14.214804     5659.737878  78967433.0  \n"
     ]
    }
   ],
   "source": [
    "import pandas as pd\n",
    "\n",
    "df = pd.read_csv(\"../data/raw/wdi_data.csv\")\n",
    "print(df[df[\"Country Name\"] == \"Germany\"].head(15))"
   ]
  },
  {
   "cell_type": "code",
   "execution_count": null,
   "id": "a28c7481",
   "metadata": {},
   "outputs": [],
   "source": []
  }
 ],
 "metadata": {
  "kernelspec": {
   "display_name": "crop",
   "language": "python",
   "name": "python3"
  },
  "language_info": {
   "codemirror_mode": {
    "name": "ipython",
    "version": 3
   },
   "file_extension": ".py",
   "mimetype": "text/x-python",
   "name": "python",
   "nbconvert_exporter": "python",
   "pygments_lexer": "ipython3",
   "version": "3.12.11"
  }
 },
 "nbformat": 4,
 "nbformat_minor": 5
}
