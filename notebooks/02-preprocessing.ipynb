{
  "cells": [
    {
      "cell_type": "markdown",
      "id": "90806319",
      "metadata": {},
      "source": [
        "# 02 — Preprocessing (Clean & Harmonize)\n",
        "\n",
        "**Purpose:** Load the country-only panel, fix types and column hygiene, add log transforms for skewed variables, and (optionally) standardize **feature** columns. No target imputation or time-window filtering is done here.\n",
        "\n",
        "**Inputs:** `../data/processed/countries_only.csv`\n",
        "\n",
        "**Outputs (CSV only):** `../data/processed/countries_preprocessed.csv`\n",
        "\n",
        "**Key decisions/assumptions:**\n",
        "- Countries only; aggregates remain excluded (as in 01).\n",
        "- No target imputation; `cereal_yield` may remain missing (handled in modeling).\n",
        "- Do not scale/transform `year`.\n",
        "- Create `log_*` companions for selected skewed variables.\n",
        "- If scaling is enabled, standardize **features only** (exclude `year`, `cereal_yield`, and identifiers).\n",
        "- CSV-only artifacts; no JSON."
      ]
    },
    {
      "cell_type": "markdown",
      "id": "be19856d",
      "metadata": {},
      "source": [
        "## 1. Setup\n",
        "Define stable paths and display options. A local fallback (`/mnt/data`) supports hosted or containerized runs. This cell establishes a consistent entry point across environments.\n"
      ]
    },
    {
      "cell_type": "code",
      "execution_count": 1,
      "id": "91464d45",
      "metadata": {},
      "outputs": [
        {
          "name": "stdout",
          "output_type": "stream",
          "text": [
            "Using data from: ..\\data\\processed\\countries_only.csv\n"
          ]
        }
      ],
      "source": [
        "from pathlib import Path\n",
        "import numpy as np\n",
        "import pandas as pd\n",
        "from sklearn.preprocessing import StandardScaler\n",
        "\n",
        "pd.set_option(\"display.max_columns\", None)\n",
        "\n",
        "# Consistent with 01 (use ../)\n",
        "DATA_PATH = Path(\"../data/processed/countries_only.csv\")\n",
        "FALLBACK  = Path(\"/mnt/data/countries_only.csv\")  # optional\n",
        "OUT_PATH  = Path(\"../data/processed/countries_preprocessed.csv\")\n",
        "\n",
        "if not DATA_PATH.exists() and FALLBACK.exists():\n",
        "    DATA_PATH = FALLBACK\n",
        "print(\"Using data from:\", DATA_PATH)"
      ]
    },
    {
      "cell_type": "markdown",
      "id": "d12f9a7e",
      "metadata": {},
      "source": [
        "## 2. Load data\n",
        "Read the country-only panel produced in 01. The initial shape and a short preview help confirm that the upstream split executed as expected and that columns are present for downstream steps.\n"
      ]
    },
    {
      "cell_type": "code",
      "execution_count": 2,
      "id": "d8823f2d",
      "metadata": {},
      "outputs": [
        {
          "name": "stdout",
          "output_type": "stream",
          "text": [
            "Shape: (14560, 14)\n"
          ]
        },
        {
          "data": {
            "text/html": [
              "<div>\n",
              "<style scoped>\n",
              "    .dataframe tbody tr th:only-of-type {\n",
              "        vertical-align: middle;\n",
              "    }\n",
              "\n",
              "    .dataframe tbody tr th {\n",
              "        vertical-align: top;\n",
              "    }\n",
              "\n",
              "    .dataframe thead th {\n",
              "        text-align: right;\n",
              "    }\n",
              "</style>\n",
              "<table border=\"1\" class=\"dataframe\">\n",
              "  <thead>\n",
              "    <tr style=\"text-align: right;\">\n",
              "      <th></th>\n",
              "      <th>Country Name</th>\n",
              "      <th>Country Code</th>\n",
              "      <th>year</th>\n",
              "      <th>fertilizer_use</th>\n",
              "      <th>arable_land_pct</th>\n",
              "      <th>precipitation</th>\n",
              "      <th>cereal_yield</th>\n",
              "      <th>co2_total_mt</th>\n",
              "      <th>co2_per_capita</th>\n",
              "      <th>gdp_per_capita</th>\n",
              "      <th>population</th>\n",
              "      <th>rural_pop_pct</th>\n",
              "      <th>temp_anomaly</th>\n",
              "      <th>is_aggregate</th>\n",
              "    </tr>\n",
              "  </thead>\n",
              "  <tbody>\n",
              "    <tr>\n",
              "      <th>0</th>\n",
              "      <td>Afghanistan</td>\n",
              "      <td>AFG</td>\n",
              "      <td>1960</td>\n",
              "      <td>NaN</td>\n",
              "      <td>NaN</td>\n",
              "      <td>NaN</td>\n",
              "      <td>NaN</td>\n",
              "      <td>NaN</td>\n",
              "      <td>NaN</td>\n",
              "      <td>NaN</td>\n",
              "      <td>9035043.0</td>\n",
              "      <td>91.599</td>\n",
              "      <td>-0.03</td>\n",
              "      <td>False</td>\n",
              "    </tr>\n",
              "    <tr>\n",
              "      <th>1</th>\n",
              "      <td>Afghanistan</td>\n",
              "      <td>AFG</td>\n",
              "      <td>1961</td>\n",
              "      <td>0.143791</td>\n",
              "      <td>11.728991</td>\n",
              "      <td>327.0</td>\n",
              "      <td>1115.1</td>\n",
              "      <td>NaN</td>\n",
              "      <td>NaN</td>\n",
              "      <td>NaN</td>\n",
              "      <td>9214083.0</td>\n",
              "      <td>91.316</td>\n",
              "      <td>0.06</td>\n",
              "      <td>False</td>\n",
              "    </tr>\n",
              "    <tr>\n",
              "      <th>2</th>\n",
              "      <td>Afghanistan</td>\n",
              "      <td>AFG</td>\n",
              "      <td>1962</td>\n",
              "      <td>0.142857</td>\n",
              "      <td>11.805651</td>\n",
              "      <td>327.0</td>\n",
              "      <td>1079.0</td>\n",
              "      <td>NaN</td>\n",
              "      <td>NaN</td>\n",
              "      <td>NaN</td>\n",
              "      <td>9404406.0</td>\n",
              "      <td>91.024</td>\n",
              "      <td>0.03</td>\n",
              "      <td>False</td>\n",
              "    </tr>\n",
              "    <tr>\n",
              "      <th>3</th>\n",
              "      <td>Afghanistan</td>\n",
              "      <td>AFG</td>\n",
              "      <td>1963</td>\n",
              "      <td>0.141935</td>\n",
              "      <td>11.882311</td>\n",
              "      <td>327.0</td>\n",
              "      <td>985.8</td>\n",
              "      <td>NaN</td>\n",
              "      <td>NaN</td>\n",
              "      <td>NaN</td>\n",
              "      <td>9604487.0</td>\n",
              "      <td>90.724</td>\n",
              "      <td>0.05</td>\n",
              "      <td>False</td>\n",
              "    </tr>\n",
              "    <tr>\n",
              "      <th>4</th>\n",
              "      <td>Afghanistan</td>\n",
              "      <td>AFG</td>\n",
              "      <td>1964</td>\n",
              "      <td>0.141026</td>\n",
              "      <td>11.958972</td>\n",
              "      <td>327.0</td>\n",
              "      <td>1082.8</td>\n",
              "      <td>NaN</td>\n",
              "      <td>NaN</td>\n",
              "      <td>NaN</td>\n",
              "      <td>9814318.0</td>\n",
              "      <td>90.414</td>\n",
              "      <td>-0.20</td>\n",
              "      <td>False</td>\n",
              "    </tr>\n",
              "  </tbody>\n",
              "</table>\n",
              "</div>"
            ],
            "text/plain": [
              "  Country Name Country Code  year  fertilizer_use  arable_land_pct  \\\n",
              "0  Afghanistan          AFG  1960             NaN              NaN   \n",
              "1  Afghanistan          AFG  1961        0.143791        11.728991   \n",
              "2  Afghanistan          AFG  1962        0.142857        11.805651   \n",
              "3  Afghanistan          AFG  1963        0.141935        11.882311   \n",
              "4  Afghanistan          AFG  1964        0.141026        11.958972   \n",
              "\n",
              "   precipitation  cereal_yield  co2_total_mt  co2_per_capita  gdp_per_capita  \\\n",
              "0            NaN           NaN           NaN             NaN             NaN   \n",
              "1          327.0        1115.1           NaN             NaN             NaN   \n",
              "2          327.0        1079.0           NaN             NaN             NaN   \n",
              "3          327.0         985.8           NaN             NaN             NaN   \n",
              "4          327.0        1082.8           NaN             NaN             NaN   \n",
              "\n",
              "   population  rural_pop_pct  temp_anomaly  is_aggregate  \n",
              "0   9035043.0         91.599         -0.03         False  \n",
              "1   9214083.0         91.316          0.06         False  \n",
              "2   9404406.0         91.024          0.03         False  \n",
              "3   9604487.0         90.724          0.05         False  \n",
              "4   9814318.0         90.414         -0.20         False  "
            ]
          },
          "execution_count": 2,
          "metadata": {},
          "output_type": "execute_result"
        }
      ],
      "source": [
        "df = pd.read_csv(DATA_PATH)\n",
        "print(\"Shape:\", df.shape)\n",
        "df.head()"
      ]
    },
    {
      "cell_type": "markdown",
      "id": "841b711d",
      "metadata": {},
      "source": [
        "## 3. Data types and ordering\n",
        "Cast `year` to a nullable integer (`Int64`) to preserve missing years without coercing to floats. Force identifiers (`Country Name`, `Country Code`) to string to avoid unintended numeric interpretation. Sort by `(Country Name, year)` to make joins, comparisons, and diffs deterministic."
      ]
    },
    {
      "cell_type": "code",
      "execution_count": 3,
      "id": "4341fd30",
      "metadata": {},
      "outputs": [
        {
          "data": {
            "text/plain": [
              "Country Name        object\n",
              "Country Code        object\n",
              "year                 Int64\n",
              "fertilizer_use     float64\n",
              "arable_land_pct    float64\n",
              "dtype: object"
            ]
          },
          "execution_count": 3,
          "metadata": {},
          "output_type": "execute_result"
        }
      ],
      "source": [
        "# year as nullable integer\n",
        "if \"year\" in df.columns:\n",
        "    df[\"year\"] = pd.to_numeric(df[\"year\"], errors=\"coerce\").astype(\"Int64\")\n",
        "\n",
        "# identifiers as strings\n",
        "for col in [\"Country Code\", \"Country Name\"]:\n",
        "    if col in df.columns:\n",
        "        df[col] = df[col].astype(str)\n",
        "\n",
        "# sort\n",
        "order_cols = [c for c in [\"Country Name\", \"year\"] if c in df.columns]\n",
        "if order_cols:\n",
        "    df = df.sort_values(order_cols).reset_index(drop=True)\n",
        "\n",
        "df.dtypes.head()"
      ]
    },
    {
      "cell_type": "markdown",
      "id": "87467bed",
      "metadata": {},
      "source": [
        "## 4. Log transforms\n",
        "Create `log_*` companions for right-skewed variables (e.g., `cereal_yield`, `fertilizer_use`, `gdp_per_capita`) using `log1p`. Negative inputs are clipped to zero to prevent invalid logs. Original columns are retained to keep both raw and transformed representations available."
      ]
    },
    {
      "cell_type": "code",
      "execution_count": 4,
      "id": "3aa7bdd9",
      "metadata": {},
      "outputs": [
        {
          "name": "stdout",
          "output_type": "stream",
          "text": [
            "Created: ['log_cereal_yield', 'log_fertilizer_use', 'log_gdp_per_capita']\n"
          ]
        }
      ],
      "source": [
        "LOG_VARS = [c for c in [\"cereal_yield\", \"fertilizer_use\", \"gdp_per_capita\"] if c in df.columns]\n",
        "\n",
        "for col in LOG_VARS:\n",
        "    vals = pd.to_numeric(df[col], errors=\"coerce\").clip(lower=0)\n",
        "    df[f\"log_{col}\"] = np.log1p(vals)\n",
        "\n",
        "print(\"Created:\", [f\"log_{c}\" for c in LOG_VARS])"
      ]
    },
    {
      "cell_type": "markdown",
      "id": "a5cf7530",
      "metadata": {},
      "source": [
        "## 5. Optional standardization\n",
        "Leave scaling disabled by default. When enabled, standardize only numeric **feature** columns and exclude `year`, the **target** (`cereal_yield`), and identifiers. Standardization improves feature comparability for scale-sensitive models (e.g., linear, distance-based), while tree-based models typically do not require it."
      ]
    },
    {
      "cell_type": "code",
      "execution_count": 5,
      "id": "07ef702a",
      "metadata": {},
      "outputs": [
        {
          "name": "stdout",
          "output_type": "stream",
          "text": [
            "Scaling disabled.\n"
          ]
        }
      ],
      "source": [
        "ENABLE_SCALING = False  # set True to scale numeric features\n",
        "\n",
        "if ENABLE_SCALING:\n",
        "    numeric_cols = df.select_dtypes(include=[np.number, \"Float64\", \"Int64\"]).columns.tolist()\n",
        "    exclude = {\"year\", \"cereal_yield\"} | set([c for c in [\"Country Code\", \"Country Name\"] if c in df.columns])\n",
        "    feature_cols = [c for c in numeric_cols if c not in exclude]\n",
        "    scaler = StandardScaler()\n",
        "    df.loc[:, feature_cols] = scaler.fit_transform(df[feature_cols])\n",
        "    print(\"Scaled columns:\", feature_cols)\n",
        "else:\n",
        "    print(\"Scaling disabled.\")"
      ]
    },
    {
      "cell_type": "markdown",
      "id": "d2d132b1",
      "metadata": {},
      "source": [
        "## 6. Save output\n",
        "Write a single artifact: `../data/processed/countries_preprocessed.csv`. This file serves as the canonical input to feature engineering in 03 and keeps the pipeline’s I/O contract simple and auditable."
      ]
    },
    {
      "cell_type": "code",
      "execution_count": 6,
      "id": "5ccb8dbf",
      "metadata": {},
      "outputs": [
        {
          "name": "stdout",
          "output_type": "stream",
          "text": [
            "Saved: ..\\data\\processed\\countries_preprocessed.csv\n"
          ]
        }
      ],
      "source": [
        "OUT_PATH.parent.mkdir(parents=True, exist_ok=True)\n",
        "df.to_csv(OUT_PATH, index=False)\n",
        "print(\"Saved:\", OUT_PATH)"
      ]
    },
    {
      "cell_type": "markdown",
      "id": "14ffbb03",
      "metadata": {},
      "source": [
        "## 7. Sanity checks\n",
        "Report final shape, list of columns, and top missing-value rates. These quick summaries surface schema drift and unexpected sparsity before feature engineering."
      ]
    },
    {
      "cell_type": "code",
      "execution_count": 7,
      "id": "79022fec",
      "metadata": {},
      "outputs": [
        {
          "name": "stdout",
          "output_type": "stream",
          "text": [
            "Final shape: (14560, 17)\n",
            "Columns (first 20): ['Country Name', 'Country Code', 'year', 'fertilizer_use', 'arable_land_pct', 'precipitation', 'cereal_yield', 'co2_total_mt', 'co2_per_capita', 'gdp_per_capita', 'population', 'rural_pop_pct', 'temp_anomaly', 'is_aggregate', 'log_cereal_yield', 'log_fertilizer_use', 'log_gdp_per_capita'] ...\n"
          ]
        },
        {
          "data": {
            "text/plain": [
              "precipitation         0.295467\n",
              "log_fertilizer_use    0.289148\n",
              "fertilizer_use        0.289148\n",
              "log_cereal_yield      0.269780\n",
              "cereal_yield          0.269780\n",
              "co2_per_capita        0.217445\n",
              "co2_total_mt          0.217445\n",
              "log_gdp_per_capita    0.168201\n",
              "gdp_per_capita        0.168201\n",
              "arable_land_pct       0.159478\n",
              "dtype: float64"
            ]
          },
          "execution_count": 7,
          "metadata": {},
          "output_type": "execute_result"
        }
      ],
      "source": [
        "print(\"Final shape:\", df.shape)\n",
        "print(\"Columns (first 20):\", list(df.columns)[:20], \"...\")\n",
        "df.isna().mean().sort_values(ascending=False).head(10)"
      ]
    },
    {
      "cell_type": "markdown",
      "id": "180d0574",
      "metadata": {},
      "source": [
        "## 8. Environment\n",
        "Print key package versions (Python, NumPy, pandas, scikit-learn). Capturing versions supports reproducibility and simplifies debugging across machines."
      ]
    },
    {
      "cell_type": "code",
      "execution_count": 8,
      "id": "5d4e694a",
      "metadata": {},
      "outputs": [
        {
          "name": "stdout",
          "output_type": "stream",
          "text": [
            "Python: 3.12.11\n",
            "Platform: Windows-10-10.0.19045-SP0\n",
            "NumPy: 2.3.3\n",
            "Pandas: 2.3.3\n",
            "scikit-learn: 1.7.2\n"
          ]
        }
      ],
      "source": [
        "import sys, platform, numpy, pandas, sklearn\n",
        "print(\"Python:\", sys.version.split()[0])\n",
        "print(\"Platform:\", platform.platform())\n",
        "print(\"NumPy:\", numpy.__version__)\n",
        "print(\"Pandas:\", pandas.__version__)\n",
        "print(\"scikit-learn:\", sklearn.__version__)"
      ]
    }
  ],
  "metadata": {
    "kernelspec": {
      "display_name": "crop",
      "language": "python",
      "name": "python3"
    },
    "language_info": {
      "codemirror_mode": {
        "name": "ipython",
        "version": 3
      },
      "file_extension": ".py",
      "mimetype": "text/x-python",
      "name": "python",
      "nbconvert_exporter": "python",
      "pygments_lexer": "ipython3",
      "version": "3.12.11"
    }
  },
  "nbformat": 4,
  "nbformat_minor": 5
}
