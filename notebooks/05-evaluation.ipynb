{
  "cells": [
    {
      "cell_type": "markdown",
      "id": "4ade49ea",
      "metadata": {},
      "source": [
        "# 05 — Evaluation & Interpretation\n",
        "\n",
        "**Purpose:** Summarize CV and hold‑out performance, prefer Ridge diagnostics if available, and show feature-importance views for RF and Ridge with non‑lag focus.\n",
        "\n",
        "**Inputs:**\n",
        "- `./reports/metrics/cv_summary.csv`, `cv_summary_ridge.csv` (optional)\n",
        "- `./reports/predictions/cv_predictions.csv`\n",
        "- `./reports/metrics/holdout_metrics.csv`, `holdout_metrics_ridge.csv` (optional)\n",
        "- `./reports/predictions/holdout_predictions.csv`, `holdout_predictions_ridge.csv` (optional)\n",
        "- `./reports/metrics/holdout_permutation_importance.csv` (optional)\n",
        "- `./reports/predictions/residuals_all_data.csv` (optional)\n",
        "- `./reports/metrics/holdout_shap_mean_abs.csv` (optional)\n",
        "\n",
        "**Outputs:** none"
      ]
    },
    {
      "cell_type": "markdown",
      "id": "100a560e",
      "metadata": {},
      "source": [
        "## 1) Load artifacts"
      ]
    },
    {
      "cell_type": "code",
      "execution_count": null,
      "id": "8a72d889",
      "metadata": {},
      "outputs": [],
      "source": [
        "from pathlib import Path\n",
        "import pandas as pd, numpy as np, matplotlib.pyplot as plt\n",
        "plt.rcParams[\"figure.figsize\"] = (8,5); plt.rcParams[\"figure.dpi\"] = 120\n",
        "\n",
        "BASE = Path(\"./reports\"); MET, PRED = BASE/\"metrics\", BASE/\"predictions\"\n",
        "\n",
        "def sread(p):\n",
        "    try:\n",
        "        if p.exists(): return pd.read_csv(p)\n",
        "    except Exception as e:\n",
        "        print(\"Read failed:\", p, e)\n",
        "    return None\n",
        "\n",
        "# Metrics\n",
        "rf_cv = sread(MET/\"cv_summary.csv\")\n",
        "rg_cv = sread(MET/\"cv_summary_ridge.csv\")\n",
        "rf_ho = sread(MET/\"holdout_metrics.csv\")\n",
        "rg_ho = sread(MET/\"holdout_metrics_ridge.csv\")\n",
        "\n",
        "# Predictions\n",
        "rf_ho_p = sread(PRED/\"holdout_predictions.csv\")\n",
        "rg_ho_p = sread(PRED/\"holdout_predictions_ridge.csv\")\n",
        "\n",
        "# Importance\n",
        "imp_rf = sread(MET/\"holdout_permutation_importance.csv\")\n",
        "imp_rg = sread(MET/\"holdout_permutation_importance_ridge.csv\")\n",
        "shapabs = sread(MET/\"holdout_shap_mean_abs.csv\")  # typically RF"
      ]
    },
    {
      "cell_type": "markdown",
      "id": "f863403d",
      "metadata": {},
      "source": [
        "## 2) Executive summary"
      ]
    },
    {
      "cell_type": "code",
      "execution_count": null,
      "id": "3c8c782d",
      "metadata": {},
      "outputs": [],
      "source": [
        "def summary_line(df, label):\n",
        "    if df is None or df.empty: return None\n",
        "    r = df.iloc[0]\n",
        "    return f\"{label}: R² {float(r['R2']):.3f}; MAE {float(r['MAE']):.1f}; RMSE {float(r['RMSE']):.1f} ({r.get('years','hold-out')})\"\n",
        "\n",
        "lines = []\n",
        "if rf_cv is not None and not rf_cv.empty:\n",
        "    m = rf_cv[pd.to_numeric(rf_cv[\"fold\"], errors=\"coerce\").notna()][[\"R2\",\"MAE\",\"RMSE\"]].astype(float)\n",
        "    lines.append(f\"RF CV: R² {m['R2'].mean():.3f} ± {m['R2'].std():.3f}; MAE {m['MAE'].mean():.1f}; RMSE {m['RMSE'].mean():.1f}\")\n",
        "if rg_cv is not None and not rg_cv.empty:\n",
        "    m = rg_cv[pd.to_numeric(rg_cv[\"fold\"], errors=\"coerce\").notna()][[\"R2\",\"MAE\",\"RMSE\"]].astype(float)\n",
        "    lines.append(f\"Ridge CV: R² {m['R2'].mean():.3f} ± {m['R2'].std():.3f}; MAE {m['MAE'].mean():.1f}; RMSE {m['RMSE'].mean():.1f}\")\n",
        "if rf_ho is not None and not rf_ho.empty:\n",
        "    lines.append(summary_line(rf_ho, \"RF Hold-out\"))\n",
        "if rg_ho is not None and not rg_ho.empty:\n",
        "    lines.append(summary_line(rg_ho, \"Ridge Hold-out\"))\n",
        "\n",
        "print(\"\\n\".join(lines) if lines else \"No metrics available.\")"
      ]
    },
    {
      "cell_type": "markdown",
      "id": "fc7312c5",
      "metadata": {},
      "source": [
        "## 3) Hold‑out diagnostics (prefer Ridge, else RF)"
      ]
    },
    {
      "cell_type": "code",
      "execution_count": null,
      "id": "c5c0a0fc",
      "metadata": {},
      "outputs": [],
      "source": [
        "pred_df = None; model_name = None\n",
        "\n",
        "if rg_ho_p is not None and not rg_ho_p.empty:\n",
        "    pred_df = rg_ho_p.copy(); model_name = \"Ridge\"\n",
        "elif rf_ho_p is not None and not rf_ho_p.empty:\n",
        "    pred_df = rf_ho_p.copy(); model_name = \"Random Forest\"\n",
        "\n",
        "if pred_df is None:\n",
        "    print(\"No hold-out predictions found for Ridge or RF.\")\n",
        "else:\n",
        "    import numpy as np\n",
        "    x = pred_df[\"y_true\"].to_numpy(dtype=float)\n",
        "    y = pred_df[\"y_pred\"].to_numpy(dtype=float)\n",
        "\n",
        "    plt.figure(); plt.scatter(x, y, alpha=0.4)\n",
        "    lim = [np.nanmin([x.min(), y.min()]), np.nanmax([x.max(), y.max()])]\n",
        "    plt.plot(lim, lim); plt.xlabel(\"y_true (kg/ha)\"); plt.ylabel(\"y_pred (kg/ha)\")\n",
        "    plt.title(f\"Hold-out: y_true vs y_pred ({model_name})\")\n",
        "    plt.tight_layout(); plt.show()\n",
        "\n",
        "    resid = x - y\n",
        "    plt.figure(); plt.hist(resid, bins=30)\n",
        "    plt.title(f\"Hold-out residuals ({model_name})\"); plt.xlabel(\"Residual\"); plt.ylabel(\"Count\")\n",
        "    plt.tight_layout(); plt.show()"
      ]
    },
    {
      "cell_type": "markdown",
      "id": "464869bf",
      "metadata": {},
      "source": [
        "## 4) Feature importance — non‑lag focus and category summaries"
      ]
    },
    {
      "cell_type": "code",
      "execution_count": null,
      "id": "8a109aa8",
      "metadata": {},
      "outputs": [],
      "source": [
        "def is_lag_or_roll(feat: str) -> bool:\n",
        "    f = str(feat)\n",
        "    if f.startswith(\"cereal_yield\"):   # exclude yield lags/rolls explicitly\n",
        "        return True\n",
        "    return (\"_lag\" in f) or (\"_roll\" in f)\n",
        "\n",
        "def feature_category(feat: str) -> str:\n",
        "    f = feat.lower()\n",
        "    if \"temp\" in f: return \"Climate: temperature\"\n",
        "    if \"precip\" in f: return \"Climate: precipitation\"\n",
        "    if \"fertilizer\" in f: return \"Inputs: fertilizer\"\n",
        "    if \"gdp\" in f: return \"Macro: income\"\n",
        "    if \"co2\" in f: return \"Macro: emissions\"\n",
        "    if \"rural_pop\" in f or \"population\" in f: return \"Demography\"\n",
        "    return \"Other\"\n",
        "\n",
        "def show_nonlag(df, value_col, label):\n",
        "    if df is None or df.empty:\n",
        "        print(f\"{label}: not available.\"); return None\n",
        "    tbl = df[~df[\"feature\"].apply(is_lag_or_roll)].copy().sort_values(value_col, ascending=False)\n",
        "    print(label + \" — top non-lag features:\"); display(tbl.head(15))\n",
        "    return tbl\n",
        "\n",
        "def cat_table(df, value_col, label):\n",
        "    if df is None or df.empty: return\n",
        "    tab = (df.assign(category=df[\"feature\"].apply(feature_category))\n",
        "             .groupby(\"category\", as_index=False)[value_col].mean()\n",
        "             .sort_values(value_col, ascending=False))\n",
        "    print(label + \" — category averages:\"); display(tab)\n",
        "\n",
        "perm_rf_nonlag = show_nonlag(imp_rf, \"perm_importance\", \"RF Permutation importance\")\n",
        "perm_rg_nonlag = show_nonlag(imp_rg, \"perm_importance\", \"Ridge Permutation importance\")\n",
        "\n",
        "if shapabs is not None and not shapabs.empty:\n",
        "    shap_nonlag = shapabs[~shapabs[\"feature\"].apply(is_lag_or_roll)].copy()                     .sort_values(\"mean_abs_shap\", ascending=False)\n",
        "    print(\"RF SHAP (mean |SHAP|) — top non-lag features:\")\n",
        "    display(shap_nonlag.head(15))\n",
        "else:\n",
        "    print(\"RF SHAP: not available.\")\n",
        "\n",
        "cat_table(perm_rf_nonlag, \"perm_importance\", \"RF permutation\")\n",
        "cat_table(perm_rg_nonlag, \"perm_importance\", \"Ridge permutation\")"
      ]
    },
    {
      "cell_type": "markdown",
      "id": "94e1c439",
      "metadata": {},
      "source": [
        "## 5) Notes & environment"
      ]
    },
    {
      "cell_type": "code",
      "execution_count": null,
      "id": "21cbd14c",
      "metadata": {},
      "outputs": [],
      "source": [
        "import sys, platform, numpy, pandas, matplotlib\n",
        "print(\"Python:\", sys.version.split()[0])\n",
        "print(\"Platform:\", platform.platform())\n",
        "print(\"NumPy:\", numpy.__version__)\n",
        "print(\"Pandas:\", pandas.__version__)\n",
        "print(\"Matplotlib:\", matplotlib.__version__)"
      ]
    }
  ],
  "metadata": {
    "kernelspec": {
      "display_name": "crop (3.12.11)",
      "language": "python",
      "name": "python3"
    },
    "language_info": {
      "codemirror_mode": {
        "name": "ipython",
        "version": 3
      },
      "file_extension": ".py",
      "mimetype": "text/x-python",
      "name": "python",
      "nbconvert_exporter": "python",
      "pygments_lexer": "ipython3",
      "version": "3.12.11"
    }
  },
  "nbformat": 4,
  "nbformat_minor": 5
}
