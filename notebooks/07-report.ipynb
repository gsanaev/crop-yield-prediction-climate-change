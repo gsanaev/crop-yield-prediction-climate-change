{
  "cells": [
    {
      "cell_type": "markdown",
      "id": "d5f7d0ac",
      "metadata": {},
      "source": [
        "# 07 — Report\n",
        "\n",
        "**Purpose:** Consolidate metrics, diagnostics, and scenario impacts into a concise report for stakeholders.\n",
        "\n",
        "**Inputs:**\n",
        "- `./reports/metrics/cv_summary.csv`, `cv_summary_ridge.csv` (optional)\n",
        "- `./reports/metrics/holdout_metrics.csv`, `holdout_metrics_ridge.csv` (optional)\n",
        "- `./reports/predictions/holdout_predictions.csv` (RF)\n",
        "- `./reports/metrics/holdout_permutation_importance.csv` (optional)\n",
        "- `./reports/metrics/holdout_shap_mean_abs.csv` (optional)\n",
        "- `./reports/scenarios/scenario_*.csv` (local & t+1)\n",
        "\n",
        "**Outputs:** none"
      ]
    },
    {
      "cell_type": "markdown",
      "id": "794e32f2",
      "metadata": {},
      "source": [
        "## 1. Load artifacts"
      ]
    },
    {
      "cell_type": "code",
      "execution_count": null,
      "id": "a93e4128",
      "metadata": {},
      "outputs": [],
      "source": [
        "from pathlib import Path\n",
        "import glob, pandas as pd, numpy as np, matplotlib.pyplot as plt\n",
        "plt.rcParams[\"figure.figsize\"] = (8,5); plt.rcParams[\"figure.dpi\"] = 120\n",
        "\n",
        "BASE = Path(\"./reports\"); MET, PRED, SCN = BASE/\"metrics\", BASE/\"predictions\", BASE/\"scenarios\"\n",
        "\n",
        "def sread(p):\n",
        "    try:\n",
        "        if p.exists(): return pd.read_csv(p)\n",
        "    except Exception as e:\n",
        "        print(\"Read failed:\", p, e)\n",
        "    return None\n",
        "\n",
        "rf_cv = sread(MET/\"cv_summary.csv\")\n",
        "rf_ho = sread(MET/\"holdout_metrics.csv\")\n",
        "rg_cv = sread(MET/\"cv_summary_ridge.csv\")\n",
        "rg_ho = sread(MET/\"holdout_metrics_ridge.csv\")\n",
        "\n",
        "# Predictions for diagnostics\n",
        "rf_ho_p = sread(PRED/\"holdout_predictions.csv\")\n",
        "rg_ho_p = sread(PRED/\"holdout_predictions_ridge.csv\")  # may be missing\n",
        "\n",
        "# Importance tables (optional)\n",
        "permimp = sread(MET/\"holdout_permutation_importance.csv\")\n",
        "shapabs = sread(MET/\"holdout_shap_mean_abs.csv\")\n",
        "\n",
        "# Scenario files\n",
        "sc_files = sorted(glob.glob(str(SCN / \"scenario_*.csv\")))"
      ]
    },
    {
      "cell_type": "markdown",
      "id": "0d0fed7d",
      "metadata": {},
      "source": [
        "## 2. Performance tables"
      ]
    },
    {
      "cell_type": "code",
      "execution_count": null,
      "id": "69de3704",
      "metadata": {},
      "outputs": [],
      "source": [
        "from pandas.api.types import is_numeric_dtype\n",
        "\n",
        "def cv_mean(df):\n",
        "    num = df[pd.to_numeric(df[\"fold\"], errors=\"coerce\").notna()].copy()\n",
        "    for c in [\"R2\",\"MAE\",\"RMSE\"]:\n",
        "        num[c] = pd.to_numeric(num[c], errors=\"coerce\")\n",
        "    return pd.DataFrame([{\"R2\": num[\"R2\"].mean(), \"MAE\": num[\"MAE\"].mean(), \"RMSE\": num[\"RMSE\"].mean()}])\n",
        "\n",
        "if rf_cv is not None and not rf_cv.empty:\n",
        "    print(\"RF CV mean:\"); display(cv_mean(rf_cv))\n",
        "if rg_cv is not None and not rg_cv.empty:\n",
        "    print(\"Ridge CV mean:\"); display(cv_mean(rg_cv))\n",
        "if rf_ho is not None and not rf_ho.empty:\n",
        "    print(\"RF Hold-out:\"); display(rf_ho)\n",
        "if rg_ho is not None and not rg_ho.empty:\n",
        "    print(\"Ridge Hold-out:\"); display(rg_ho)"
      ]
    },
    {
      "cell_type": "markdown",
      "id": "5494ce35",
      "metadata": {},
      "source": [
        "## 3. Hold‑out diagnostics (prefer Ridge, else RF)"
      ]
    },
    {
      "cell_type": "code",
      "execution_count": null,
      "id": "f713add4",
      "metadata": {},
      "outputs": [],
      "source": [
        "# Prefer Ridge predictions if available; otherwise fall back to RF\n",
        "pred_df = None\n",
        "model_name = None\n",
        "\n",
        "if rg_ho_p is not None and not rg_ho_p.empty:\n",
        "    pred_df = rg_ho_p.copy()\n",
        "    model_name = \"Ridge\"\n",
        "elif rf_ho_p is not None and not rf_ho_p.empty:\n",
        "    pred_df = rf_ho_p.copy()\n",
        "    model_name = \"Random Forest\"\n",
        "\n",
        "if pred_df is None:\n",
        "    print(\"No hold-out predictions found for Ridge or RF.\")\n",
        "else:\n",
        "    import numpy as np, matplotlib.pyplot as plt\n",
        "    x = pred_df[\"y_true\"].to_numpy(dtype=float)\n",
        "    y = pred_df[\"y_pred\"].to_numpy(dtype=float)\n",
        "\n",
        "    plt.figure()\n",
        "    plt.scatter(x, y, alpha=0.4)\n",
        "    lim = [np.nanmin([x.min(), y.min()]), np.nanmax([x.max(), y.max()])]\n",
        "    plt.plot(lim, lim)\n",
        "    plt.xlabel(\"y_true (kg/ha)\")\n",
        "    plt.ylabel(\"y_pred (kg/ha)\")\n",
        "    plt.title(f\"Hold-out: y_true vs y_pred ({model_name})\")\n",
        "    plt.tight_layout()\n",
        "    plt.show()\n",
        "\n",
        "    resid = x - y\n",
        "    plt.figure()\n",
        "    plt.hist(resid, bins=30)\n",
        "    plt.title(f\"Hold-out residuals ({model_name})\")\n",
        "    plt.xlabel(\"Residual\")\n",
        "    plt.ylabel(\"Count\")\n",
        "    plt.tight_layout()\n",
        "    plt.show()"
      ]
    },
    {
      "cell_type": "markdown",
      "id": "f332eb54",
      "metadata": {},
      "source": [
        "## 4. Feature importance — focus on non‑lag drivers"
      ]
    },
    {
      "cell_type": "code",
      "execution_count": null,
      "id": "b676e2f1",
      "metadata": {},
      "outputs": [],
      "source": [
        "def is_lag_or_roll(feat: str) -> bool:\n",
        "    f = str(feat)\n",
        "    if f.startswith(\"cereal_yield\"):   # drop yield lags/rolls explicitly\n",
        "        return True\n",
        "    return (\"_lag\" in f) or (\"_roll\" in f)\n",
        "\n",
        "def feature_category(feat: str) -> str:\n",
        "    f = feat.lower()\n",
        "    if \"temp\" in f: return \"Climate: temperature\"\n",
        "    if \"precip\" in f: return \"Climate: precipitation\"\n",
        "    if \"fertilizer\" in f: return \"Inputs: fertilizer\"\n",
        "    if \"gdp\" in f: return \"Macro: income\"\n",
        "    if \"co2\" in f: return \"Macro: emissions\"\n",
        "    if \"rural_pop\" in f or \"population\" in f: return \"Demography\"\n",
        "    return \"Other\"\n",
        "\n",
        "# (A) Top non-lag features by permutation importance\n",
        "if permimp is not None and not permimp.empty:\n",
        "    perm_nonlag = permimp[~permimp[\"feature\"].apply(is_lag_or_roll)].copy()\n",
        "    perm_nonlag = perm_nonlag.sort_values(\"perm_importance\", ascending=False)\n",
        "    print(\"Top non-lag features (Permutation Importance):\")\n",
        "    display(perm_nonlag.head(15))\n",
        "else:\n",
        "    perm_nonlag = None\n",
        "    print(\"No permutation importance table found.\")\n",
        "\n",
        "# (B) Top non-lag features by mean |SHAP|\n",
        "if shapabs is not None and not shapabs.empty:\n",
        "    shap_nonlag = shapabs[~shapabs[\"feature\"].apply(is_lag_or_roll)].copy()\n",
        "    shap_nonlag = shap_nonlag.sort_values(\"mean_abs_shap\", ascending=False)\n",
        "    print(\"Top non-lag features (mean |SHAP|):\")\n",
        "    display(shap_nonlag.head(15))\n",
        "else:\n",
        "    shap_nonlag = None\n",
        "    print(\"No SHAP importance table found.\")\n",
        "\n",
        "# (C) Category-level averages (non-lag only)\n",
        "def cat_table(df, value_col, label):\n",
        "    if df is None or df.empty: \n",
        "        return\n",
        "    tab = (\n",
        "        df.assign(category=df[\"feature\"].apply(feature_category))\n",
        "          .groupby(\"category\", as_index=False)[value_col].mean()\n",
        "          .sort_values(value_col, ascending=False)\n",
        "    )\n",
        "    print(f\"{label} — category averages:\")\n",
        "    display(tab)\n",
        "\n",
        "cat_table(perm_nonlag, \"perm_importance\", \"Permutation importance\")\n",
        "cat_table(shap_nonlag, \"mean_abs_shap\", \"Mean |SHAP|\")"
      ]
    },
    {
      "cell_type": "markdown",
      "id": "e9102c83",
      "metadata": {},
      "source": [
        "> **Interpretation (non‑lag features).**  \n",
        "> Climate variables show directional but modest signal at annual resolution; temperature often edges precipitation, but effects are region‑ and season‑specific. Fertilizer and macro/demographic variables retain secondary influence, likely proxying input access, infrastructure, and technology. Prioritizing **seasonal climate features** and **input quality metrics** (irrigation share, seed types) should strengthen climate sensitivity in future iterations."
      ]
    },
    {
      "cell_type": "markdown",
      "id": "3bc0bc0a",
      "metadata": {},
      "source": [
        "## 5. Scenario summary & map (t+1 preferred)"
      ]
    },
    {
      "cell_type": "code",
      "execution_count": null,
      "id": "1793dcc6",
      "metadata": {},
      "outputs": [],
      "source": [
        "import glob\n",
        "from pathlib import Path\n",
        "import pandas as pd\n",
        "\n",
        "t1 = sorted(glob.glob(str(SCN / \"scenario_*_tplus1.csv\")))\n",
        "chosen = t1[-1] if t1 else (sc_files[-1] if sc_files else None)\n",
        "\n",
        "if chosen is None:\n",
        "    print(\"No scenario files found in ./reports/scenarios/.\")\n",
        "else:\n",
        "    sc = pd.read_csv(chosen)\n",
        "    print(\"Using scenario file:\", Path(chosen).name)\n",
        "    cols = [c for c in [\"Country Name\",\"Country Code\",\"year\",\"y_pred_baseline\",\"y_pred_scenario\",\"delta_abs\",\"delta_pct\"] if c in sc.columns]\n",
        "    display(sc.sort_values(\"delta_abs\", ascending=False)[cols].head(15))\n",
        "\n",
        "    # Choropleth (optional)\n",
        "    try:\n",
        "        import plotly.express as px\n",
        "        if \"Country Code\" in sc.columns:\n",
        "            fig = px.choropleth(sc, locations=\"Country Code\", color=\"delta_abs\", color_continuous_scale=\"RdBu\",\n",
        "                                title=\"Scenario impact (t+1): Δ yield (kg/ha)\")\n",
        "            fig.update_layout(coloraxis_colorbar_title=\"Δ kg/ha\")\n",
        "            fig.show()\n",
        "    except Exception as e:\n",
        "        print(\"Plotly not available for map; table shown only. Error:\", e)"
      ]
    },
    {
      "cell_type": "markdown",
      "id": "782afaed",
      "metadata": {},
      "source": [
        "### How to read the map (t+1 scenario impact)\n",
        "- **What’s shown:** absolute change in predicted yield (kg/ha) = **ŷ_scenario − ŷ_baseline** for the **same t+1** feature row; only nudged drivers differ.\n",
        "- **Colors:** blue/positive = increase; red/negative = decrease; units are kg/ha.\n",
        "- **t+1 construction:** lags/rolling features are propagated from the latest observed year to avoid look-ahead.\n",
        "- **Gray countries:** missing data/ISO3 mapping.\n",
        "- **Note:** associational sensitivity around the current regime; not a causal estimate."
      ]
    },
    {
      "cell_type": "markdown",
      "id": "de137bca",
      "metadata": {},
      "source": [
        "## 6. Environment"
      ]
    },
    {
      "cell_type": "code",
      "execution_count": null,
      "id": "1036ef00",
      "metadata": {},
      "outputs": [],
      "source": [
        "import sys, platform, numpy, pandas, matplotlib\n",
        "print(\"Python:\", sys.version.split()[0])\n",
        "print(\"Platform:\", platform.platform())\n",
        "print(\"NumPy:\", numpy.__version__)\n",
        "print(\"Pandas:\", pandas.__version__)\n",
        "print(\"Matplotlib:\", matplotlib.__version__)"
      ]
    }
  ],
  "metadata": {
    "kernelspec": {
      "display_name": "crop (3.12.11)",
      "language": "python",
      "name": "python3"
    },
    "language_info": {
      "codemirror_mode": {
        "name": "ipython",
        "version": 3
      },
      "file_extension": ".py",
      "mimetype": "text/x-python",
      "name": "python",
      "nbconvert_exporter": "python",
      "pygments_lexer": "ipython3",
      "version": "3.12.11"
    }
  },
  "nbformat": 4,
  "nbformat_minor": 5
}
